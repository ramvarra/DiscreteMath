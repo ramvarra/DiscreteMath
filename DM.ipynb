{
 "cells": [
  {
   "cell_type": "code",
   "execution_count": 7,
   "metadata": {},
   "outputs": [],
   "source": [
    "import itertools\n",
    "import numpy as np"
   ]
  },
  {
   "cell_type": "code",
   "execution_count": 35,
   "metadata": {},
   "outputs": [
    {
     "name": "stdout",
     "output_type": "stream",
     "text": [
      "56964 56983 56988\n",
      "56963 56981 56983\n",
      "56962 56978 56981\n",
      "56961 56976 56978\n",
      "56960 56974 56976\n"
     ]
    }
   ],
   "source": [
    "def res(x, y):\n",
    "    return x*5 + y*7\n",
    "\n",
    "values = np.unique(np.array([res(x, y) for x in range(10000) for y in range(1000)]))\n",
    "\n",
    "n = 5\n",
    "for i in range(len(values)-1, 1, -1):\n",
    "    if values[i] - values[i-1] > 1:\n",
    "        print(i, values[i-1], values[i])\n",
    "        n -= 1\n",
    "        if n == 0:\n",
    "            break"
   ]
  },
  {
   "cell_type": "code",
   "execution_count": 37,
   "metadata": {},
   "outputs": [
    {
     "data": {
      "text/plain": [
       "array([  0,   5,   7,  10,  12,  14,  15,  17,  19,  20,  21,  22,  24,\n",
       "        25,  26,  27,  28,  29,  30,  31,  32,  33,  34,  35,  36,  37,\n",
       "        38,  39,  40,  41,  42,  43,  44,  45,  46,  47,  48,  49,  50,\n",
       "        51,  52,  53,  54,  55,  56,  57,  58,  59,  60,  61,  62,  63,\n",
       "        64,  65,  66,  67,  68,  69,  70,  71,  72,  73,  74,  75,  76,\n",
       "        77,  78,  79,  80,  81,  82,  83,  84,  85,  86,  87,  88,  89,\n",
       "        90,  91,  92,  93,  94,  95,  96,  97,  98,  99, 100, 101, 102,\n",
       "       103, 104, 105, 106, 107, 108, 109, 110, 111])"
      ]
     },
     "execution_count": 37,
     "metadata": {},
     "output_type": "execute_result"
    }
   ],
   "source": [
    "values[:100]"
   ]
  },
  {
   "cell_type": "code",
   "execution_count": 66,
   "metadata": {},
   "outputs": [],
   "source": [
    "# Change amount (> 23) with 5s and 7s\n",
    "def change(amount):\n",
    "    if amount % 5 == 0:\n",
    "        return [5] * (amount // 5)\n",
    "    if amount % 7 == 0:\n",
    "        return [7] * (amount // 7)\n",
    "    if amount > 5:\n",
    "        rest = change(amount - 5)\n",
    "        if rest:\n",
    "            return [5] + rest\n",
    "    if amount > 7:\n",
    "        rest = change(amount - 7)\n",
    "        if rest:\n",
    "            return [7] + rest\n",
    "\n",
    "    return None\n",
    "\n",
    "for i in range(24, 1001):\n",
    "    c = change(i)\n",
    "    assert sum(c) == i\n"
   ]
  },
  {
   "cell_type": "code",
   "execution_count": 85,
   "metadata": {},
   "outputs": [
    {
     "data": {
      "text/plain": [
       "([1, 2], [1, 2, 3])"
      ]
     },
     "execution_count": 85,
     "metadata": {},
     "output_type": "execute_result"
    }
   ],
   "source": [
    "l = [1, 2, 3]\n",
    "l1 = l[:-1]\n",
    "l1, l"
   ]
  },
  {
   "cell_type": "code",
   "execution_count": 97,
   "metadata": {},
   "outputs": [
    {
     "data": {
      "text/plain": [
       "[4, 3, 2, 1]"
      ]
     },
     "execution_count": 97,
     "metadata": {},
     "output_type": "execute_result"
    }
   ],
   "source": [
    "n = 4\n",
    "l = list(range(n, 0, -1))\n",
    "l.append(0)\n",
    "l.pop()\n",
    "l"
   ]
  },
  {
   "cell_type": "code",
   "execution_count": 69,
   "metadata": {},
   "outputs": [],
   "source": [
    "#Towers of Hanoi"
   ]
  },
  {
   "cell_type": "code",
   "execution_count": 109,
   "metadata": {},
   "outputs": [
    {
     "name": "stdout",
     "output_type": "stream",
     "text": [
      "Move Disk_1 from A to B\n",
      "Move Disk_2 from A to C\n",
      "Move Disk_1 from B to C\n",
      "Move Disk_3 from A to B\n",
      "Move Disk_1 from C to A\n",
      "Move Disk_2 from C to B\n",
      "Move Disk_1 from A to B\n",
      "Move Disk_4 from A to C\n",
      "Move Disk_1 from B to C\n",
      "Move Disk_2 from B to A\n",
      "Move Disk_1 from C to A\n",
      "Move Disk_3 from B to C\n",
      "Move Disk_1 from A to B\n",
      "Move Disk_2 from A to C\n",
      "Move Disk_1 from B to C\n"
     ]
    }
   ],
   "source": [
    "#-------------------------------------------------------------------------------------    \n",
    "class Peg:\n",
    "    def __init__(self, name, n=0):        \n",
    "        self._peg = list(range(n, 0, -1))\n",
    "        self._name = name\n",
    "    \n",
    "    #move top from me to to_pet\n",
    "    def move(self, to_peg):\n",
    "        assert self.count > 0\n",
    "        item = self._peg.pop()\n",
    "        to_peg._peg.append(item)\n",
    "        print(f\"MOVE Disk_{item} from {self._name} to {to_peg._name}\")\n",
    "    \n",
    "    @property\n",
    "    def count(self):\n",
    "        return len(self._peg)\n",
    "    \n",
    "    def __repr__(self):\n",
    "        return f\"{self._name}_{self._peg}\"\n",
    "    \n",
    "#-------------------------------------------------------------------------------------    \n",
    "def hanoi(a, b, c, n):\n",
    "    #print(f'{a} {b} {c} n={n}')\n",
    "    if n == 2:\n",
    "        a.move(b)\n",
    "        a.move(c)\n",
    "        b.move(c)\n",
    "        return\n",
    "    \n",
    "    hanoi(a, c, b, n - 1)\n",
    "    a.move(c)\n",
    "    hanoi(b, a, c, b.count)\n",
    "    \n",
    "#-------------------------------------------------------------------------------------\n",
    "A = Peg(\"A\", 4)\n",
    "B = Peg(\"B\")\n",
    "C = Peg(\"C\")\n",
    "    \n",
    "hanoi(A, B, C, A.count)"
   ]
  },
  {
   "cell_type": "code",
   "execution_count": null,
   "metadata": {},
   "outputs": [],
   "source": []
  }
 ],
 "metadata": {
  "kernelspec": {
   "display_name": "Python 3",
   "language": "python",
   "name": "python3"
  },
  "language_info": {
   "codemirror_mode": {
    "name": "ipython",
    "version": 3
   },
   "file_extension": ".py",
   "mimetype": "text/x-python",
   "name": "python",
   "nbconvert_exporter": "python",
   "pygments_lexer": "ipython3",
   "version": "3.6.4"
  }
 },
 "nbformat": 4,
 "nbformat_minor": 2
}
