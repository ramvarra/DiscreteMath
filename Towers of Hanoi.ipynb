{
 "cells": [
  {
   "cell_type": "markdown",
   "metadata": {},
   "source": [
    "## Towers of Hanoi"
   ]
  },
  {
   "cell_type": "markdown",
   "metadata": {},
   "source": [
    "The objective of the puzzle is to move the entire stack to another peg, obeying the following simple rules:\n",
    "\n",
    "  1) Only one disk can be moved at a time.\n",
    "  2) Each move consists of taking the upper disk from one of the stacks and placing it on top of another stack or on an empty rod.\n",
    "  3) No disk may be placed on top of a smaller disk."
   ]
  },
  {
   "cell_type": "code",
   "execution_count": 1,
   "metadata": {},
   "outputs": [
    {
     "name": "stdout",
     "output_type": "stream",
     "text": [
      "MOVE Disk_1 from A to B\n",
      "MOVE Disk_2 from A to C\n",
      "MOVE Disk_1 from B to C\n",
      "MOVE Disk_3 from A to B\n",
      "MOVE Disk_1 from C to A\n",
      "MOVE Disk_2 from C to B\n",
      "MOVE Disk_1 from A to B\n",
      "MOVE Disk_4 from A to C\n",
      "MOVE Disk_1 from B to C\n",
      "MOVE Disk_2 from B to A\n",
      "MOVE Disk_1 from C to A\n",
      "MOVE Disk_3 from B to C\n",
      "MOVE Disk_1 from A to B\n",
      "MOVE Disk_2 from A to C\n",
      "MOVE Disk_1 from B to C\n"
     ]
    }
   ],
   "source": [
    "#-------------------------------------------------------------------------------------    \n",
    "class Peg:\n",
    "    '''\n",
    "    Represents a peg and disks. The disks on the peg are represented as list (stack). largest disk at _peg[0]\n",
    "    smallest at _peg[-1]\n",
    "    '''\n",
    "    def __init__(self, name, n=0): \n",
    "        self._peg = list(range(n, 0, -1))\n",
    "        self._name = name\n",
    "    \n",
    "    \n",
    "    def move(self, to_peg):\n",
    "        '''\n",
    "        Move the top (smallest disk) from self to the to_peg\n",
    "        '''\n",
    "        assert self.count > 0\n",
    "        item = self._peg.pop()\n",
    "        to_peg._peg.append(item)\n",
    "        print(f\"MOVE Disk_{item} from {self._name} to {to_peg._name}\")\n",
    "    \n",
    "    @property\n",
    "    def count(self):\n",
    "        return len(self._peg)\n",
    "    \n",
    "    def __repr__(self):\n",
    "        return f\"{self._name}_{self._peg}\"\n",
    "    \n",
    "#-------------------------------------------------------------------------------------    \n",
    "def hanoi(a, b, c, n):\n",
    "    '''\n",
    "    Move top n disks from peg a to peg c, using peg b as intermediate peg. Peg b and c can either be empty or contain \n",
    "    disks with its top disk larger than first first disk going to be placed.\n",
    "    '''\n",
    "    if n == 2:\n",
    "        # move top to intermediate (b), move the next from a to c and move b to c.\n",
    "        a.move(b)\n",
    "        a.move(c)\n",
    "        b.move(c)\n",
    "        return\n",
    "    \n",
    "    # move top n-1 disks from a to b, using c as intermediate\n",
    "    hanoi(a, c, b, n - 1)\n",
    "    #move the bottom disk to c (largest)\n",
    "    a.move(c)\n",
    "    #move n-1 disks from b to c, using a as intermediate\n",
    "    hanoi(b, a, c, b.count)\n",
    "    \n",
    "#-------------------------------------------------------------------------------------\n",
    "A = Peg(\"A\", 4)\n",
    "B = Peg(\"B\")\n",
    "C = Peg(\"C\")\n",
    "    \n",
    "hanoi(A, B, C, A.count)"
   ]
  },
  {
   "cell_type": "code",
   "execution_count": null,
   "metadata": {},
   "outputs": [],
   "source": []
  }
 ],
 "metadata": {
  "kernelspec": {
   "display_name": "Python 3",
   "language": "python",
   "name": "python3"
  },
  "language_info": {
   "codemirror_mode": {
    "name": "ipython",
    "version": 3
   },
   "file_extension": ".py",
   "mimetype": "text/x-python",
   "name": "python",
   "nbconvert_exporter": "python",
   "pygments_lexer": "ipython3",
   "version": "3.6.4"
  }
 },
 "nbformat": 4,
 "nbformat_minor": 2
}
