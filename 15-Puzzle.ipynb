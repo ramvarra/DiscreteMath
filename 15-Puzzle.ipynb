{
 "cells": [
  {
   "cell_type": "markdown",
   "metadata": {},
   "source": [
    "## 15-Puzzle\n",
    "\n"
   ]
  },
  {
   "cell_type": "code",
   "execution_count": 15,
   "metadata": {},
   "outputs": [],
   "source": [
    "import itertools"
   ]
  },
  {
   "cell_type": "markdown",
   "metadata": {},
   "source": [
    "### Function that checks if a permutation is even.\n"
   ]
  },
  {
   "cell_type": "code",
   "execution_count": 28,
   "metadata": {},
   "outputs": [
    {
     "name": "stdout",
     "output_type": "stream",
     "text": [
      "[0, 1, 2, 3] False\n",
      "[0, 1, 2, 3, 4, 5, 6, 7, 8, 9] True\n"
     ]
    }
   ],
   "source": [
    "def is_permutation(a):\n",
    "    '''\n",
    "    Check if numbers in a are permutation - each number should 0 <= k < n and each number should be unique\n",
    "    '''\n",
    "    return set(a) == set(range(len(a)))\n",
    "\n",
    "def is_even(p):\n",
    "    '''\n",
    "    Check if numbers contained in array can be sorted into 1,...n with even number of transpositions.\n",
    "    '''\n",
    "    transpositions = []\n",
    "    for i in range(len(p)):\n",
    "        if p[i] == i:\n",
    "            continue\n",
    "        # find where i is in (i+1 ... n-1) slots\n",
    "        for j in range(i+1, len(p)):\n",
    "            if p[j] == i:\n",
    "                p[i], p[j] = p[j], p[i]\n",
    "                transpositions.append((i, j))\n",
    "    return len(transpositions) % 2 == 0\n",
    "\n",
    "p = [1, 3, 0, 2]; print(p, is_even(p))\n",
    "p = [0,3,2,4,5,6,7,1,9,8]; print(p, is_even(p))"
   ]
  },
  {
   "cell_type": "markdown",
   "metadata": {},
   "source": [
    "### 15 Puzzle Representation\n",
    "We have shown that a position in the 15-puzzle is unsolvable if the corresponding permutation of 15 objects is odd. We have not shown yet that the reverse statement is true, i.e., that for every even permutation the puzzle is solvable. It is indeed true, and the challenge now is to write a program that produces a sequence of moves for every solvable configuration.\n",
    "\n",
    "Unfortunately, our representation of permutations in python starts with 0, and the numbering of pieces starts with 1. To make the output more readable, let us agree that the empty is represented by 0, and the other pieces are listed according to their labels in the \"reading order\", so the standard position is represented as [1, 2, 3, 4, 5, 6, 7, 8, 9, 10, 11, 12, 13, 14, 15, 0] while the impossible configuration we discussed is represented as [1, 2, 3, 4, 5, 6, 7, 8, 9, 10, 11, 12, 13, 15, 14, 0]. So the position is now represented by a permutation of 0..15, and we assume for simplicity that in the initial position the last number (bottom right cell) is 0.\n",
    "\n",
    "Getting such a sequence as input that corresponds to a solvable configuration, your program should output a sequence of moves that transform this configuration into a standard one. Each move is represented by an integer, a number on the piece that is moved\n",
    "\n",
    "For example, you may check that for the position [1, 2, 3, 4, 5, 6, 7, 8, 13, 9, 11, 12, 10, 14, 15, 0] one of the solution is [15, 14, 10, 13, 9, 10, 14, 15]\n",
    "\n"
   ]
  },
  {
   "cell_type": "code",
   "execution_count": 31,
   "metadata": {},
   "outputs": [
    {
     "data": {
      "text/plain": [
       "[(8, 9), (9, 12)]"
      ]
     },
     "execution_count": 31,
     "metadata": {},
     "output_type": "execute_result"
    }
   ],
   "source": [
    "def solve(p, g):\n",
    "    '''\n",
    "    find list of transpositions needed to solve p\n",
    "    '''\n",
    "    transpositions = []\n",
    "    for i in range(len(p)):\n",
    "        if p[i] == g[i]:\n",
    "            continue\n",
    "        # find where g[i] is in (i+1 ... n-1) slots\n",
    "        for j in range(i+1, len(p)):\n",
    "            if p[j] == g[i]:\n",
    "                p[i], p[j] = p[j], p[i]\n",
    "                transpositions.append((i, j))\n",
    "    return transpositions\n",
    "\n",
    "p = [1, 2, 3, 4, 5, 6, 7, 8, 13, 9, 11, 12, 10, 14, 15, 0]\n",
    "goal = [1, 2, 3, 4, 5, 6, 7, 8, 9, 10, 11, 12, 13, 14, 15, 0]\n",
    "\n",
    "solve(p, goal)"
   ]
  },
  {
   "cell_type": "code",
   "execution_count": 126,
   "metadata": {},
   "outputs": [
    {
     "name": "stdout",
     "output_type": "stream",
     "text": [
      "Solvable:  True\n",
      "[6, 10, 12, 4, 7, 0, 15, 14, 9, 8, 11, 5, 13, 3, 2, 1]\n"
     ]
    },
    {
     "ename": "Exception",
     "evalue": "No convergence after 10241 iterations",
     "output_type": "error",
     "traceback": [
      "\u001b[1;31m---------------------------------------------------------------------------\u001b[0m",
      "\u001b[1;31mException\u001b[0m                                 Traceback (most recent call last)",
      "\u001b[1;32m<ipython-input-126-92d5ab3681c9>\u001b[0m in \u001b[0;36m<module>\u001b[1;34m()\u001b[0m\n\u001b[0;32m    115\u001b[0m \u001b[1;33m\u001b[0m\u001b[0m\n\u001b[0;32m    116\u001b[0m \u001b[0mprint\u001b[0m\u001b[1;33m(\u001b[0m\u001b[1;34m'Solvable: '\u001b[0m\u001b[1;33m,\u001b[0m \u001b[0mis_solvable\u001b[0m\u001b[1;33m(\u001b[0m\u001b[0mp\u001b[0m\u001b[1;33m)\u001b[0m\u001b[1;33m)\u001b[0m\u001b[1;33m\u001b[0m\u001b[0m\n\u001b[1;32m--> 117\u001b[1;33m \u001b[0msolution\u001b[0m\u001b[1;33m(\u001b[0m\u001b[0mp\u001b[0m\u001b[1;33m)\u001b[0m\u001b[1;33m\u001b[0m\u001b[0m\n\u001b[0m",
      "\u001b[1;32m<ipython-input-126-92d5ab3681c9>\u001b[0m in \u001b[0;36msolution\u001b[1;34m(p)\u001b[0m\n\u001b[0;32m    106\u001b[0m         \u001b[1;32mif\u001b[0m \u001b[0miter_count\u001b[0m \u001b[1;33m>\u001b[0m \u001b[0mmax_iter_count\u001b[0m\u001b[1;33m:\u001b[0m\u001b[1;33m\u001b[0m\u001b[0m\n\u001b[0;32m    107\u001b[0m             \u001b[0mprint\u001b[0m\u001b[1;33m(\u001b[0m\u001b[0mnext_board\u001b[0m\u001b[1;33m)\u001b[0m\u001b[1;33m\u001b[0m\u001b[0m\n\u001b[1;32m--> 108\u001b[1;33m             \u001b[1;32mraise\u001b[0m \u001b[0mException\u001b[0m\u001b[1;33m(\u001b[0m\u001b[1;34mf\"No convergence after {iter_count} iterations\"\u001b[0m\u001b[1;33m)\u001b[0m\u001b[1;33m\u001b[0m\u001b[0m\n\u001b[0m\u001b[0;32m    109\u001b[0m     \u001b[1;32mreturn\u001b[0m \u001b[0msol\u001b[0m\u001b[1;33m\u001b[0m\u001b[0m\n\u001b[0;32m    110\u001b[0m \u001b[1;33m\u001b[0m\u001b[0m\n",
      "\u001b[1;31mException\u001b[0m: No convergence after 10241 iterations"
     ]
    }
   ],
   "source": [
    "def ix_of_zero(p):\n",
    "    return [i for i in range(len(p)) if p[i] == 0][0]\n",
    "\n",
    "def row_col(ix):\n",
    "    return (ix // 4, ix % 4)\n",
    "\n",
    "def shade_weight(p):\n",
    "    '''\n",
    "    Location of 0 (blank) on the board.\n",
    "    If corresponding row, col on the board is even - return 1 else 0\n",
    "    Referred to as x in sum(less(i)) + x\n",
    "    Board representation: S - Shaded, N Nonshaded\n",
    "    S N S N\n",
    "    N S N S\n",
    "    S N S N\n",
    "    N S N S\n",
    "    '''\n",
    "    row, col = row_col(ix_of_zero(p))\n",
    "    return int((row + col) % 2 == 0)\n",
    "\n",
    "def less(p, i):\n",
    "    '''\n",
    "    Number of positions that are less than i to the right\n",
    "    '''\n",
    "    return sum(1 for j in range(i, len(p)) if p[j] < p[i] and p[j] != 0)\n",
    "\n",
    "def is_solvable(p):\n",
    "    '''\n",
    "    Check if sum(less(i)) + x is even \n",
    "    '''\n",
    "    check = sum(less(p, i) for i in range(i)) + shade_weight(p)\n",
    "    return check % 2 == 0\n",
    "\n",
    "def possible_moves(p):\n",
    "    '''\n",
    "    Find current ix of zero. Generate UP, DOWN, LEFT, RIGHT. Return valid options\n",
    "    '''\n",
    "    r, c = row_col(ix_of_zero(p))\n",
    "    return [(nr, nc) for (nr, nc) in ((r, c+1), (r, c-1), (r-1, c), (r+1, c)) if (0 <= nr < 4) and (0 <= nc < 4)]\n",
    "\n",
    "\n",
    "def apply_move(p, m):\n",
    "    '''\n",
    "    Exchange  zero with value in (nr, nc)\n",
    "    '''\n",
    "    nr, nc = m[0], m[1]\n",
    "    ix_of_z = ix_of_zero(p)\n",
    "    ix_of_n = nr * 4 + nc\n",
    "    p[ix_of_z], p[ix_of_n] =  p[ix_of_n], p[ix_of_z]\n",
    "    return p[ix_of_z]\n",
    "\n",
    "def cost(p):\n",
    "    '''\n",
    "    number of cells that are not in right position (excluding zero)\n",
    "    '''\n",
    "    return sum(p[i] != (i+1) for i in range(len(p)-1))\n",
    "\n",
    "    \n",
    "def cost_mhd(p):\n",
    "    '''\n",
    "    Manhattan distance to goal\n",
    "    '''\n",
    "    mhd = 0\n",
    "    for i in range(len(p)-1):\n",
    "        if p[i] != (i+1):\n",
    "            ix_of_target = [i for i in range(len(p)) if p[i] == i+1][0]\n",
    "            cr, cc = row_col(i)\n",
    "            tr, tc = row_col(ix_of_target)\n",
    "            mhd += abs(cr-tr) + abs(cc - tc)\n",
    "    return mhd \n",
    "\n",
    "\n",
    "def solution(p):\n",
    "    assert is_solvable(p)\n",
    "\n",
    "    next_board = p[:]\n",
    "    next_move = None\n",
    "    past_zero_pos = None\n",
    "    sol = []\n",
    "    iter_count = 0\n",
    "    max_iter_count = 1024*10\n",
    "    \n",
    "    while cost(next_board) > 0:    \n",
    "        p_moves = possible_moves(next_board)\n",
    "        #print('Possible Moves: ', p_moves)\n",
    "        if past_zero_pos is not None:\n",
    "            p_moves = [m for m in p_moves if m != past_zero_pos]\n",
    "            #print('Filetered Possible Moves: ', p_moves)\n",
    "\n",
    "        past_zero_pos = row_col(ix_of_zero(next_board))\n",
    "        cost_data = []\n",
    "        for move in p_moves:\n",
    "            np = next_board[:]\n",
    "            v = apply_move(np, move)\n",
    "            c = cost(np)\n",
    "            #print('Move : ', move, ' B:', np, ' Cost: ', c)\n",
    "            cost_data.append((c, move, np, v))\n",
    "\n",
    "        # sort of cost\n",
    "        cost_data = sorted(cost_data)\n",
    "        c, next_move, next_board, v = cost_data[0]\n",
    "        #print('Selected Move: ', next_move)\n",
    "        #print(next_board)        \n",
    "        sol.append(v)\n",
    "        iter_count += 1\n",
    "        if iter_count > max_iter_count:\n",
    "            print(next_board)\n",
    "            raise Exception(f\"No convergence after {iter_count} iterations\")\n",
    "    return sol\n",
    "        \n",
    "g = [1, 2, 3, 4, 5, 6, 7, 8, 9, 10, 11, 12, 13, 14, 15, 0]\n",
    "p = [1, 2, 3, 4, 5, 6, 7, 8, 13, 9, 11, 12, 10, 14, 0, 15]\n",
    "p1 = [1, 2, 3, 4, 5, 6, 7, 8, 9, 10, 11, 12, 0, 13, 14, 15]\n",
    "p = [1, 2, 3, 4, 5, 6, 8, 9, 10, 0, 11, 13, 14, 15, 12, 7]\n",
    "\n",
    "print('Solvable: ', is_solvable(p))\n",
    "solution(p)        "
   ]
  },
  {
   "cell_type": "code",
   "execution_count": 81,
   "metadata": {},
   "outputs": [
    {
     "data": {
      "text/plain": [
       "4"
      ]
     },
     "execution_count": 81,
     "metadata": {},
     "output_type": "execute_result"
    }
   ],
   "source": [
    "p = [1, 2, 3, 4, 5, 6, 7, 8, 13, 9, 11, 12, 10, 14, 0, 15]\n",
    "\n",
    "\n"
   ]
  },
  {
   "cell_type": "code",
   "execution_count": 95,
   "metadata": {},
   "outputs": [
    {
     "data": {
      "text/plain": [
       "{(2, 2), (3, 1), (3, 3)}"
      ]
     },
     "execution_count": 95,
     "metadata": {},
     "output_type": "execute_result"
    }
   ],
   "source": [
    "[possible_moves(p) "
   ]
  },
  {
   "cell_type": "code",
   "execution_count": 36,
   "metadata": {},
   "outputs": [
    {
     "data": {
      "text/plain": [
       "[(1, 0),\n",
       " (2, 0),\n",
       " (3, 0),\n",
       " (4, 0),\n",
       " (5, 0),\n",
       " (6, 0),\n",
       " (7, 0),\n",
       " (8, 0),\n",
       " (13, 4),\n",
       " (9, 0),\n",
       " (11, 1),\n",
       " (12, 1),\n",
       " (10, 0),\n",
       " (14, 0),\n",
       " (15, 0),\n",
       " (0, 0)]"
      ]
     },
     "execution_count": 36,
     "metadata": {},
     "output_type": "execute_result"
    }
   ],
   "source": [
    "\n",
    "\n",
    "p = [1, 2, 3, 4, 5, 6, 7, 8, 13, 9, 11, 12, 10, 14, 15, 0]\n",
    "[(p[i], less(p, i)) for i in range(len(p))]"
   ]
  },
  {
   "cell_type": "markdown",
   "metadata": {},
   "source": [
    "https://www.youtube.com/watch?v=AM3oveV6-bo"
   ]
  }
 ],
 "metadata": {
  "kernelspec": {
   "display_name": "Python 3",
   "language": "python",
   "name": "python3"
  },
  "language_info": {
   "codemirror_mode": {
    "name": "ipython",
    "version": 3
   },
   "file_extension": ".py",
   "mimetype": "text/x-python",
   "name": "python",
   "nbconvert_exporter": "python",
   "pygments_lexer": "ipython3",
   "version": "3.6.4"
  }
 },
 "nbformat": 4,
 "nbformat_minor": 2
}
