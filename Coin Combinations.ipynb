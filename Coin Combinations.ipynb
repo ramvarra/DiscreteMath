{
 "cells": [
  {
   "cell_type": "code",
   "execution_count": 3,
   "metadata": {},
   "outputs": [],
   "source": [
    "import itertools"
   ]
  },
  {
   "cell_type": "markdown",
   "metadata": {},
   "source": [
    "### FInd largest amount that can not paid by coins of values 5 and 7\n",
    "##### Assume we have unlimited supply of coins"
   ]
  },
  {
   "cell_type": "code",
   "execution_count": 4,
   "metadata": {},
   "outputs": [
    {
     "data": {
      "text/plain": [
       "array([  0,   5,   7,  10,  12,  14,  15,  17,  19,  20,  21,  22,  24,\n",
       "        25,  26,  27,  28,  29,  30,  31,  32,  33,  34,  35,  36,  37,\n",
       "        38,  39,  40,  41,  42,  43,  44,  45,  46,  47,  48,  49,  50,\n",
       "        51,  52,  53,  54,  55,  56,  57,  58,  59,  60,  61,  62,  63,\n",
       "        64,  65,  66,  67,  68,  69,  70,  71,  72,  73,  74,  75,  76,\n",
       "        77,  78,  79,  80,  81,  82,  83,  84,  85,  86,  87,  88,  89,\n",
       "        90,  91,  92,  93,  94,  95,  96,  97,  98,  99, 100, 101, 102,\n",
       "       103, 104, 105, 106, 107, 108, 109, 110, 111])"
      ]
     },
     "execution_count": 4,
     "metadata": {},
     "output_type": "execute_result"
    }
   ],
   "source": [
    "\n",
    "# generate lots of possible values that can be paid by 5s and 7s.  (x*5 + y*7)\n",
    "values = np.unique(np.array([x*5+y*7 for x in range(10000) for y in range(1000)]))\n",
    "\n",
    "values[:100]\n",
    "            \n"
   ]
  },
  {
   "cell_type": "markdown",
   "metadata": {},
   "source": [
    "#### Based on above results 23 is largest missing number. 24 and on wards sequential."
   ]
  },
  {
   "cell_type": "markdown",
   "metadata": {},
   "source": [
    "### Inductive Proof\n",
    "\n",
    "#### Base case of Induction\n",
    "\n",
    "24 = (5 * 2) + (7 *2)\n",
    "\n",
    "#### Induction Step\n",
    "If we can express n as sum of multiples of 5 and 7.\n",
    "\n",
    "    n  = (5x) + (7y) for some x >= 0 and y >= 2 (our base case fits here)\n",
    "\n",
    "There several possible ranges of x and y to consider:\n",
    "\n",
    "a) y >= 2, x >= 2 (starting at 24)\n",
    "   n = 5x + 7*2\n",
    "   n + 1 = n + 15 - 14 = 5x + 7*y + 5*3 - 7*2 = 5(x+3) + 7(y-2)\n",
    "\n",
    "b) y = 0, x >= 5 (first valid 25)\n",
    "   n = 5x\n",
    "   n + 1 = 5x + 21 - 20 = 5x + 7*3 - 5*4 = 5*(x-4) +7*3\n",
    "   since x >= 5, (x-4) >= 0 hence above expression validates induction step\n",
    "\n",
    "c) x >= 1, y >= 3 (start 26)\n",
    "   n = 5x + 7y\n",
    "   n+1 = n + 15 - 14 = 5x + 7y + 5*3 - 7*2 = 5*(x+3) - 7(y-2)\n",
    "\n",
    "d) y = 1, x >= 4 (starting 27)\n",
    "   n = 5x + 7\n",
    "   n + 1 = n + 21 - 20  = 5x + 7 + 7*3 - 5* 4 = 5(x-4) + 7*4\n",
    "   \n",
    "e) x = 0, y >= 4 (start at 28)\n",
    "   n = 7y\n",
    "   n+1 = n + 15 - 14 = 7y + 5*3 - 7*2 = 5*3 - 7(y-2)\n",
    "   \n"
   ]
  },
  {
   "cell_type": "markdown",
   "metadata": {},
   "source": [
    "### Generate coin combinations with 5 and 7"
   ]
  },
  {
   "cell_type": "code",
   "execution_count": 14,
   "metadata": {},
   "outputs": [
    {
     "name": "stdout",
     "output_type": "stream",
     "text": [
      "24 = (2, 2)\n",
      "25 = (5, 0)\n",
      "26 = (1, 3)\n",
      "27 = (4, 1)\n",
      "30 = (6, 0)\n",
      "33 = (1, 4)\n",
      "41 = (4, 3)\n",
      "49 = (0, 7)\n",
      "93 = (6, 9)\n",
      "99 = (3, 12)\n"
     ]
    }
   ],
   "source": [
    "def change(amount):\n",
    "    '''\n",
    "    Change amount (> 23) with 5s and 7s\n",
    "    returns a tuple (x, y) such that amount = 5*x + 7*y\n",
    "    '''\n",
    "    if amount % 5 == 0:\n",
    "        return (amount // 5, 0)\n",
    "    if amount % 7 == 0:\n",
    "        return (0, amount // 7)\n",
    "    if amount > 5:\n",
    "        rest = change(amount - 5)\n",
    "        if rest:\n",
    "            return (rest[0]+1, rest[1])\n",
    "    if amount > 7:\n",
    "        rest = change(amount - 7)\n",
    "        if rest:\n",
    "            return (rest[0], rest[1]+1)\n",
    "\n",
    "    return None\n",
    "\n",
    "# validate for values 24 to 1000\n",
    "for i in range(24, 1001):\n",
    "    c = change(i)\n",
    "    assert c[0] * 5 + c[1] * 7 == i\n",
    "\n",
    "for i in (24, 25, 26, 27, 30, 33, 41, 49, 93, 99):\n",
    "    c = change(i)\n",
    "    print(f\"{i} = {c}\")"
   ]
  },
  {
   "cell_type": "code",
   "execution_count": 69,
   "metadata": {},
   "outputs": [],
   "source": [
    "#Towers of Hanoi"
   ]
  },
  {
   "cell_type": "code",
   "execution_count": null,
   "metadata": {},
   "outputs": [],
   "source": []
  }
 ],
 "metadata": {
  "kernelspec": {
   "display_name": "Python 3",
   "language": "python",
   "name": "python3"
  },
  "language_info": {
   "codemirror_mode": {
    "name": "ipython",
    "version": 3
   },
   "file_extension": ".py",
   "mimetype": "text/x-python",
   "name": "python",
   "nbconvert_exporter": "python",
   "pygments_lexer": "ipython3",
   "version": "3.6.4"
  }
 },
 "nbformat": 4,
 "nbformat_minor": 2
}
